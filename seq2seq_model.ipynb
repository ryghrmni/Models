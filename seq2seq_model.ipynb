{
  "nbformat": 4,
  "nbformat_minor": 0,
  "metadata": {
    "colab": {
      "provenance": [],
      "authorship_tag": "ABX9TyO6+4p23ru/3m5QIJ43YsDX",
      "include_colab_link": true
    },
    "kernelspec": {
      "name": "python3",
      "display_name": "Python 3"
    },
    "language_info": {
      "name": "python"
    }
  },
  "cells": [
    {
      "cell_type": "markdown",
      "metadata": {
        "id": "view-in-github",
        "colab_type": "text"
      },
      "source": [
        "<a href=\"https://colab.research.google.com/github/ryghrmni/Models/blob/main/seq2seq_model.ipynb\" target=\"_parent\"><img src=\"https://colab.research.google.com/assets/colab-badge.svg\" alt=\"Open In Colab\"/></a>"
      ]
    },
    {
      "cell_type": "markdown",
      "source": [
        "**Task:** Translate simple English sentences into French using a Seq2Seq model."
      ],
      "metadata": {
        "id": "8aOraowZqyRE"
      }
    },
    {
      "cell_type": "code",
      "execution_count": 57,
      "metadata": {
        "id": "d_4-js5HRSoS"
      },
      "outputs": [],
      "source": [
        "import torch\n",
        "import torch.nn as nn\n",
        "import torch.optim as optim\n",
        "import numpy as np"
      ]
    },
    {
      "cell_type": "code",
      "source": [
        "# Dataset: Simple English-French pairs\n",
        "data = [\n",
        "    (\"I am a student\", \"je suis un étudiant\"),\n",
        "    (\"I love you\", \"je t'aime\"),\n",
        "    (\"Hello\", \"Bonjour\"),\n",
        "    (\"How are you\", \"comment ça va\"),\n",
        "    (\"Thank you\", \"merci\"),\n",
        "]"
      ],
      "metadata": {
        "id": "COwI75NTquhP"
      },
      "execution_count": 58,
      "outputs": []
    },
    {
      "cell_type": "code",
      "source": [
        "# Step 1: Preprocessing\n",
        "def tokenize(text):\n",
        "    return text.lower().split()"
      ],
      "metadata": {
        "id": "GeSaYJ0OtqSN"
      },
      "execution_count": 59,
      "outputs": []
    },
    {
      "cell_type": "code",
      "source": [
        "def build_vocab(sentences):\n",
        "    vocab = set()\n",
        "    for sentence in sentences:\n",
        "        vocab.update(tokenize(sentence))\n",
        "        #print(vocab)\n",
        "    vocab = {word: idx + 3 for idx, word in enumerate(vocab)}  # Start indices from 2\n",
        "    print(vocab)\n",
        "    vocab['<PAD>'] = 0  # Padding token\n",
        "    vocab['<SOS>'] = 1  # Start of sentence token\n",
        "    vocab['<EOS>'] = 2  # End of sentence token\n",
        "    return vocab"
      ],
      "metadata": {
        "id": "ZdHnRBgOq5MT"
      },
      "execution_count": 111,
      "outputs": []
    },
    {
      "cell_type": "code",
      "source": [
        "def sentence_to_indices(sentence, vocab):\n",
        "    return [vocab[word] for word in tokenize(sentence)]"
      ],
      "metadata": {
        "id": "-EeZSZL0tvTh"
      },
      "execution_count": 112,
      "outputs": []
    },
    {
      "cell_type": "code",
      "source": [
        "# Build vocabularies for both English and French\n",
        "source_sentences, target_sentences = zip(*data)\n",
        "source_vocab = build_vocab(source_sentences)\n",
        "target_vocab = build_vocab(target_sentences)"
      ],
      "metadata": {
        "colab": {
          "base_uri": "https://localhost:8080/"
        },
        "id": "-zRsQarFtyL7",
        "outputId": "f4422b92-f864-4ccd-8e9e-e5a6d6b6837a"
      },
      "execution_count": 113,
      "outputs": [
        {
          "output_type": "stream",
          "name": "stdout",
          "text": [
            "{'love': 3, 'thank': 4, 'you': 5, 'hello': 6, 'a': 7, 'i': 8, 'are': 9, 'am': 10, 'how': 11, 'student': 12}\n",
            "{'étudiant': 3, 'bonjour': 4, 'suis': 5, 'un': 6, 'je': 7, \"t'aime\": 8, 'ça': 9, 'va': 10, 'comment': 11, 'merci': 12}\n"
          ]
        }
      ]
    },
    {
      "cell_type": "code",
      "source": [
        "source_sentences"
      ],
      "metadata": {
        "colab": {
          "base_uri": "https://localhost:8080/"
        },
        "id": "_irESRXtyqZx",
        "outputId": "a2a8bf66-459c-4041-f102-e9659c09b940"
      },
      "execution_count": 114,
      "outputs": [
        {
          "output_type": "execute_result",
          "data": {
            "text/plain": [
              "('I am a student', 'I love you', 'Hello', 'How are you', 'Thank you')"
            ]
          },
          "metadata": {},
          "execution_count": 114
        }
      ]
    },
    {
      "cell_type": "code",
      "source": [
        "target_sentences"
      ],
      "metadata": {
        "colab": {
          "base_uri": "https://localhost:8080/"
        },
        "id": "lE3gWxxcytdG",
        "outputId": "50845f61-f3a2-45fc-e8eb-adc3862a8703"
      },
      "execution_count": 115,
      "outputs": [
        {
          "output_type": "execute_result",
          "data": {
            "text/plain": [
              "('je suis un étudiant', \"je t'aime\", 'Bonjour', 'comment ça va', 'merci')"
            ]
          },
          "metadata": {},
          "execution_count": 115
        }
      ]
    },
    {
      "cell_type": "code",
      "source": [
        "source_vocab"
      ],
      "metadata": {
        "colab": {
          "base_uri": "https://localhost:8080/"
        },
        "id": "XMxoDY9DtzHx",
        "outputId": "4c9127bd-f0e6-4da8-d6c8-eaa48d1238d3"
      },
      "execution_count": 116,
      "outputs": [
        {
          "output_type": "execute_result",
          "data": {
            "text/plain": [
              "{'love': 3,\n",
              " 'thank': 4,\n",
              " 'you': 5,\n",
              " 'hello': 6,\n",
              " 'a': 7,\n",
              " 'i': 8,\n",
              " 'are': 9,\n",
              " 'am': 10,\n",
              " 'how': 11,\n",
              " 'student': 12,\n",
              " '<PAD>': 0,\n",
              " '<SOS>': 1,\n",
              " '<EOS>': 2}"
            ]
          },
          "metadata": {},
          "execution_count": 116
        }
      ]
    },
    {
      "cell_type": "code",
      "source": [
        "target_vocab"
      ],
      "metadata": {
        "colab": {
          "base_uri": "https://localhost:8080/"
        },
        "id": "GV_B-lQUt08t",
        "outputId": "b6123fb4-27e6-4d12-ca75-ab6cb1b5ccff"
      },
      "execution_count": 117,
      "outputs": [
        {
          "output_type": "execute_result",
          "data": {
            "text/plain": [
              "{'étudiant': 3,\n",
              " 'bonjour': 4,\n",
              " 'suis': 5,\n",
              " 'un': 6,\n",
              " 'je': 7,\n",
              " \"t'aime\": 8,\n",
              " 'ça': 9,\n",
              " 'va': 10,\n",
              " 'comment': 11,\n",
              " 'merci': 12,\n",
              " '<PAD>': 0,\n",
              " '<SOS>': 1,\n",
              " '<EOS>': 2}"
            ]
          },
          "metadata": {},
          "execution_count": 117
        }
      ]
    },
    {
      "cell_type": "code",
      "source": [
        "# Inverse vocab for decoding\n",
        "inv_target_vocab = {idx: word for word, idx in target_vocab.items()}"
      ],
      "metadata": {
        "id": "1atKn85-t2xZ"
      },
      "execution_count": 118,
      "outputs": []
    },
    {
      "cell_type": "code",
      "source": [
        "inv_target_vocab"
      ],
      "metadata": {
        "colab": {
          "base_uri": "https://localhost:8080/"
        },
        "id": "Qkcbc7Ojt_u9",
        "outputId": "9cc481d7-4d9d-46f3-d631-a14180e7892b"
      },
      "execution_count": 119,
      "outputs": [
        {
          "output_type": "execute_result",
          "data": {
            "text/plain": [
              "{3: 'étudiant',\n",
              " 4: 'bonjour',\n",
              " 5: 'suis',\n",
              " 6: 'un',\n",
              " 7: 'je',\n",
              " 8: \"t'aime\",\n",
              " 9: 'ça',\n",
              " 10: 'va',\n",
              " 11: 'comment',\n",
              " 12: 'merci',\n",
              " 0: '<PAD>',\n",
              " 1: '<SOS>',\n",
              " 2: '<EOS>'}"
            ]
          },
          "metadata": {},
          "execution_count": 119
        }
      ]
    },
    {
      "cell_type": "code",
      "source": [
        "# Parameters\n",
        "INPUT_DIM = len(source_vocab)\n",
        "OUTPUT_DIM = len(target_vocab)\n",
        "EMB_DIM = 32\n",
        "HIDDEN_DIM = 64\n",
        "NUM_LAYERS = 1"
      ],
      "metadata": {
        "id": "RevlRX0zuCDB"
      },
      "execution_count": 121,
      "outputs": []
    },
    {
      "cell_type": "code",
      "source": [
        "INPUT_DIM"
      ],
      "metadata": {
        "colab": {
          "base_uri": "https://localhost:8080/"
        },
        "id": "B68e-nND0hmP",
        "outputId": "ea541dd7-11cc-4dfd-bda6-7c8e3738e0d8"
      },
      "execution_count": 122,
      "outputs": [
        {
          "output_type": "execute_result",
          "data": {
            "text/plain": [
              "13"
            ]
          },
          "metadata": {},
          "execution_count": 122
        }
      ]
    },
    {
      "cell_type": "code",
      "source": [
        "OUTPUT_DIM"
      ],
      "metadata": {
        "colab": {
          "base_uri": "https://localhost:8080/"
        },
        "id": "TR1KC6m70lTc",
        "outputId": "f427ce50-bd38-41ef-b93b-8661e3b6da9a"
      },
      "execution_count": 123,
      "outputs": [
        {
          "output_type": "execute_result",
          "data": {
            "text/plain": [
              "13"
            ]
          },
          "metadata": {},
          "execution_count": 123
        }
      ]
    },
    {
      "cell_type": "code",
      "source": [
        "# Attention class\n",
        "class Attention(nn.Module):\n",
        "    def __init__(self, hidden_dim):\n",
        "        super(Attention, self).__init__()\n",
        "        self.attn = nn.Linear(hidden_dim * 2, hidden_dim)\n",
        "        self.v = nn.Linear(hidden_dim, 1, bias=False)\n",
        "\n",
        "    def forward(self, hidden, encoder_outputs):\n",
        "        src_len = encoder_outputs.shape[1]\n",
        "        hidden = hidden[-1].unsqueeze(1).repeat(1, src_len, 1)\n",
        "        energy = torch.tanh(self.attn(torch.cat((hidden, encoder_outputs), dim=2)))\n",
        "        attention = self.v(energy).squeeze(2)\n",
        "        return torch.softmax(attention, dim=1)"
      ],
      "metadata": {
        "id": "6Wxfl4t2vQZt"
      },
      "execution_count": 125,
      "outputs": []
    },
    {
      "cell_type": "code",
      "source": [
        "# Encoder class\n",
        "class Encoder(nn.Module):\n",
        "    def __init__(self, input_dim, emb_dim, hidden_dim, num_layers):\n",
        "        super(Encoder, self).__init__()\n",
        "        self.embedding = nn.Embedding(input_dim, emb_dim)\n",
        "        self.lstm = nn.LSTM(emb_dim, hidden_dim, num_layers, batch_first=True)\n",
        "\n",
        "    def forward(self, src):\n",
        "        embedded = self.embedding(src)\n",
        "        outputs, (hidden, cell) = self.lstm(embedded)\n",
        "        return outputs, hidden, cell"
      ],
      "metadata": {
        "id": "xitIMYBDqBTh"
      },
      "execution_count": 126,
      "outputs": []
    },
    {
      "cell_type": "code",
      "source": [
        "# Decoder class with Attention\n",
        "class Decoder(nn.Module):\n",
        "    def __init__(self, output_dim, emb_dim, hidden_dim, num_layers, attention):\n",
        "        super(Decoder, self).__init__()\n",
        "        self.embedding = nn.Embedding(output_dim, emb_dim)\n",
        "        self.lstm = nn.LSTM(emb_dim + hidden_dim, hidden_dim, num_layers, batch_first=True)\n",
        "        self.fc = nn.Linear(hidden_dim * 2, output_dim)\n",
        "        self.attention = attention\n",
        "\n",
        "    def forward(self, trg, hidden, cell, encoder_outputs):\n",
        "        trg = trg.unsqueeze(1)\n",
        "        embedded = self.embedding(trg)\n",
        "\n",
        "        attn_weights = self.attention(hidden, encoder_outputs)\n",
        "        attn_weights = attn_weights.unsqueeze(1)\n",
        "\n",
        "        context = torch.bmm(attn_weights, encoder_outputs)\n",
        "        lstm_input = torch.cat((embedded, context), dim=2)\n",
        "\n",
        "        output, (hidden, cell) = self.lstm(lstm_input, (hidden, cell))\n",
        "        prediction = self.fc(torch.cat((output.squeeze(1), context.squeeze(1)), dim=1))\n",
        "\n",
        "        return prediction, hidden, cell"
      ],
      "metadata": {
        "id": "bfpsROjcqcwJ"
      },
      "execution_count": 127,
      "outputs": []
    },
    {
      "cell_type": "code",
      "source": [
        "# Seq2Seq model\n",
        "class Seq2Seq(nn.Module):\n",
        "    def __init__(self, encoder, decoder):\n",
        "        super(Seq2Seq, self).__init__()\n",
        "        self.encoder = encoder\n",
        "        self.decoder = decoder\n",
        "\n",
        "    def forward(self, src, trg):\n",
        "        encoder_outputs, hidden, cell = self.encoder(src)\n",
        "        outputs = torch.zeros(trg.size(0), trg.size(1), OUTPUT_DIM).to(src.device)\n",
        "        input_token = trg[:, 0]\n",
        "        for t in range(1, trg.size(1)):\n",
        "            output, hidden, cell = self.decoder(input_token, hidden, cell, encoder_outputs)\n",
        "            outputs[:, t, :] = output\n",
        "            input_token = trg[:, t]\n",
        "        return outputs"
      ],
      "metadata": {
        "id": "K57zoaXhqe9E"
      },
      "execution_count": 128,
      "outputs": []
    },
    {
      "cell_type": "code",
      "source": [
        "# Instantiate the model with attention\n",
        "attention = Attention(HIDDEN_DIM)\n",
        "encoder = Encoder(INPUT_DIM, EMB_DIM, HIDDEN_DIM, NUM_LAYERS)\n",
        "decoder = Decoder(OUTPUT_DIM, EMB_DIM, HIDDEN_DIM, NUM_LAYERS, attention)\n",
        "model = Seq2Seq(encoder, decoder)"
      ],
      "metadata": {
        "id": "b7Z28ATeryMC"
      },
      "execution_count": 129,
      "outputs": []
    },
    {
      "cell_type": "code",
      "source": [
        "model"
      ],
      "metadata": {
        "colab": {
          "base_uri": "https://localhost:8080/"
        },
        "id": "a4z_yYaDuPkY",
        "outputId": "af1dd34f-31bd-45db-d698-ac34eb0ea860"
      },
      "execution_count": 130,
      "outputs": [
        {
          "output_type": "execute_result",
          "data": {
            "text/plain": [
              "Seq2Seq(\n",
              "  (encoder): Encoder(\n",
              "    (embedding): Embedding(13, 32)\n",
              "    (lstm): LSTM(32, 64, batch_first=True)\n",
              "  )\n",
              "  (decoder): Decoder(\n",
              "    (embedding): Embedding(13, 32)\n",
              "    (lstm): LSTM(96, 64, batch_first=True)\n",
              "    (fc): Linear(in_features=128, out_features=13, bias=True)\n",
              "    (attention): Attention(\n",
              "      (attn): Linear(in_features=128, out_features=64, bias=True)\n",
              "      (v): Linear(in_features=64, out_features=1, bias=False)\n",
              "    )\n",
              "  )\n",
              ")"
            ]
          },
          "metadata": {},
          "execution_count": 130
        }
      ]
    },
    {
      "cell_type": "code",
      "source": [
        "# Training setup\n",
        "criterion = nn.CrossEntropyLoss(ignore_index=0)  # Ignore padding index\n",
        "optimizer = optim.Adam(model.parameters(), lr=0.001)"
      ],
      "metadata": {
        "id": "4CYVPsKguRcm"
      },
      "execution_count": 131,
      "outputs": []
    },
    {
      "cell_type": "code",
      "source": [
        "def prepare_data(data, source_vocab, target_vocab):\n",
        "    source_indices = [sentence_to_indices(src, source_vocab) for src, _ in data]\n",
        "    target_indices = [[1] + sentence_to_indices(trg, target_vocab) + [2] for _, trg in data]  # Add <EOS> token\n",
        "    max_len = max(len(seq) for seq in target_indices)\n",
        "    source_padded = [seq + [0] * (max_len - len(seq)) for seq in source_indices]\n",
        "    target_padded = [seq + [0] * (max_len - len(seq)) for seq in target_indices]\n",
        "    return torch.tensor(source_padded), torch.tensor(target_padded)"
      ],
      "metadata": {
        "id": "SVtuHPJxuVsy"
      },
      "execution_count": 132,
      "outputs": []
    },
    {
      "cell_type": "code",
      "source": [
        "source_tensor, target_tensor = prepare_data(data, source_vocab, target_vocab)"
      ],
      "metadata": {
        "id": "S-nS_jqauX2n"
      },
      "execution_count": 133,
      "outputs": []
    },
    {
      "cell_type": "code",
      "source": [
        "source_tensor"
      ],
      "metadata": {
        "colab": {
          "base_uri": "https://localhost:8080/"
        },
        "id": "mZyI6d68uYka",
        "outputId": "25da3f7b-0902-40cc-f841-ff655f5b023d"
      },
      "execution_count": 134,
      "outputs": [
        {
          "output_type": "execute_result",
          "data": {
            "text/plain": [
              "tensor([[ 8, 10,  7, 12,  0,  0],\n",
              "        [ 8,  3,  5,  0,  0,  0],\n",
              "        [ 6,  0,  0,  0,  0,  0],\n",
              "        [11,  9,  5,  0,  0,  0],\n",
              "        [ 4,  5,  0,  0,  0,  0]])"
            ]
          },
          "metadata": {},
          "execution_count": 134
        }
      ]
    },
    {
      "cell_type": "code",
      "source": [
        "target_tensor"
      ],
      "metadata": {
        "colab": {
          "base_uri": "https://localhost:8080/"
        },
        "id": "1D7VupDpuaIB",
        "outputId": "ae7c8c9f-7d0f-44fb-c280-8c329f9eae16"
      },
      "execution_count": 135,
      "outputs": [
        {
          "output_type": "execute_result",
          "data": {
            "text/plain": [
              "tensor([[ 1,  7,  5,  6,  3,  2],\n",
              "        [ 1,  7,  8,  2,  0,  0],\n",
              "        [ 1,  4,  2,  0,  0,  0],\n",
              "        [ 1, 11,  9, 10,  2,  0],\n",
              "        [ 1, 12,  2,  0,  0,  0]])"
            ]
          },
          "metadata": {},
          "execution_count": 135
        }
      ]
    },
    {
      "cell_type": "code",
      "source": [
        "# Training loop\n",
        "num_epochs = 1000\n",
        "for epoch in range(num_epochs):\n",
        "    model.train()\n",
        "    optimizer.zero_grad()\n",
        "    output = model(source_tensor, target_tensor)\n",
        "    output_dim = output.shape[-1]\n",
        "    loss = criterion(output[:, 1:].reshape(-1, output_dim), target_tensor[:, 1:].reshape(-1))\n",
        "    loss.backward()\n",
        "    optimizer.step()\n",
        "\n",
        "    if epoch % 100 == 0:\n",
        "        print(f'Epoch {epoch}, Loss: {loss.item()}')"
      ],
      "metadata": {
        "colab": {
          "base_uri": "https://localhost:8080/"
        },
        "id": "KSbwjBnXucWT",
        "outputId": "97821b82-11ed-4c2c-9c1e-5732e11f09d1"
      },
      "execution_count": 136,
      "outputs": [
        {
          "output_type": "stream",
          "name": "stdout",
          "text": [
            "Epoch 0, Loss: 2.5551395416259766\n",
            "Epoch 100, Loss: 0.052865270525217056\n",
            "Epoch 200, Loss: 0.012262150645256042\n",
            "Epoch 300, Loss: 0.005883478093892336\n",
            "Epoch 400, Loss: 0.003535899566486478\n",
            "Epoch 500, Loss: 0.00239496654830873\n",
            "Epoch 600, Loss: 0.0017436250345781446\n",
            "Epoch 700, Loss: 0.0013334167888388038\n",
            "Epoch 800, Loss: 0.0010565038537606597\n",
            "Epoch 900, Loss: 0.0008597331470809877\n"
          ]
        }
      ]
    },
    {
      "cell_type": "code",
      "source": [
        "def translate(sentence, model, source_vocab, target_vocab, inv_target_vocab, max_len=10):\n",
        "    model.eval()\n",
        "    indices = sentence_to_indices(sentence, source_vocab)\n",
        "    src_tensor = torch.tensor([indices + [0] * (max_len - len(indices))])\n",
        "\n",
        "    # Correctly unpack the encoder outputs\n",
        "    encoder_outputs, hidden, cell = model.encoder(src_tensor)\n",
        "\n",
        "    trg_indices = [1]  # <SOS> token\n",
        "    for _ in range(max_len):\n",
        "        trg_tensor = torch.tensor([trg_indices[-1]])\n",
        "        output, hidden, cell = model.decoder(trg_tensor, hidden, cell, encoder_outputs)\n",
        "        pred_token = output.argmax(1).item()\n",
        "        trg_indices.append(pred_token)\n",
        "\n",
        "        # Stop if the model predicts the <EOS> token\n",
        "        if pred_token == 2:  # Assuming 2 is the <EOS> token in target_vocab\n",
        "            break\n",
        "\n",
        "    return ' '.join(inv_target_vocab[idx] for idx in trg_indices[1:] if idx not in [0, 1, 2])  # Exclude <PAD>, <SOS>, <EOS>"
      ],
      "metadata": {
        "id": "e02jqL1ruhGa"
      },
      "execution_count": 137,
      "outputs": []
    },
    {
      "cell_type": "code",
      "source": [
        "# Testing the model\n",
        "test_sentence = \"I love you\"\n",
        "translation = translate(test_sentence, model, source_vocab, target_vocab, inv_target_vocab)\n",
        "print(f'Translation: {translation}')"
      ],
      "metadata": {
        "colab": {
          "base_uri": "https://localhost:8080/"
        },
        "id": "R2eSvBJsujUW",
        "outputId": "758852b3-3f38-48db-ee83-656278e96b5b"
      },
      "execution_count": 138,
      "outputs": [
        {
          "output_type": "stream",
          "name": "stdout",
          "text": [
            "Translation: je t'aime\n"
          ]
        }
      ]
    }
  ]
}